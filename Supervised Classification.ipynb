{
  "nbformat": 4,
  "nbformat_minor": 0,
  "metadata": {
    "kernelspec": {
      "display_name": "Python 3",
      "language": "python",
      "name": "python3"
    },
    "language_info": {
      "codemirror_mode": {
        "name": "ipython",
        "version": 3
      },
      "file_extension": ".py",
      "mimetype": "text/x-python",
      "name": "python",
      "nbconvert_exporter": "python",
      "pygments_lexer": "ipython3",
      "version": "3.7.4"
    },
    "colab": {
      "name": "Supervised Classification.ipynb",
      "provenance": []
    }
  },
  "cells": [
    {
      "cell_type": "markdown",
      "metadata": {
        "id": "B953g8w5s6aF"
      },
      "source": [
        "# Supervised classification\n",
        "\n",
        "In the data.csv there are letters (uppercases and lowercases) and numbers, 28x28 pixels in a row format.\n",
        "\n",
        "* First, you need to know which labels are which, meaning you need to visualize some data to realize which number labels represents a letter, or a number."
      ]
    },
    {
      "cell_type": "code",
      "metadata": {
        "id": "_ugjNPq_s6bD"
      },
      "source": [
        "# Import libraries\n",
        "import pandas as pd\n",
        "import numpy as np\n",
        "import matplotlib.pyplot as plt"
      ],
      "execution_count": 2,
      "outputs": []
    },
    {
      "cell_type": "code",
      "metadata": {
        "id": "YYByu0DntzsX",
        "outputId": "5a82b81f-3217-4c40-d989-c130e31865b0",
        "colab": {
          "base_uri": "https://localhost:8080/"
        }
      },
      "source": [
        "from google.colab import drive\n",
        "drive.mount('/content/drive')"
      ],
      "execution_count": 3,
      "outputs": [
        {
          "output_type": "stream",
          "name": "stdout",
          "text": [
            "Drive already mounted at /content/drive; to attempt to forcibly remount, call drive.mount(\"/content/drive\", force_remount=True).\n"
          ]
        }
      ]
    },
    {
      "cell_type": "code",
      "metadata": {
        "id": "FRadLVBZs6bI"
      },
      "source": [
        "# Your code here\n",
        "df = pd.read_csv('/content/drive/MyDrive/datasets/data_all.zip')"
      ],
      "execution_count": 4,
      "outputs": []
    },
    {
      "cell_type": "code",
      "metadata": {
        "id": "U4barU0KOsEd",
        "outputId": "ef102c24-c50b-42b6-ca85-d720455e1d85",
        "colab": {
          "base_uri": "https://localhost:8080/"
        }
      },
      "source": [
        "df.values"
      ],
      "execution_count": 5,
      "outputs": [
        {
          "output_type": "execute_result",
          "data": {
            "text/plain": [
              "array([[36.,  0.,  0., ...,  0.,  0.,  0.],\n",
              "       [ 0.,  0.,  0., ...,  0.,  0.,  0.],\n",
              "       [ 3.,  0.,  0., ...,  0.,  0.,  0.],\n",
              "       ...,\n",
              "       [28.,  0.,  0., ...,  0.,  0.,  0.],\n",
              "       [ 0.,  0.,  0., ...,  0.,  0.,  0.],\n",
              "       [ 5.,  0.,  0., ...,  0.,  0.,  0.]])"
            ]
          },
          "metadata": {},
          "execution_count": 5
        }
      ]
    },
    {
      "cell_type": "markdown",
      "metadata": {
        "id": "O-OQX_tHBQhg"
      },
      "source": [
        "Since they are 28x28 pixels make 784 pixels in total, to get each image the first column must be ignore since the 784 pixels start from the second column, in which each row represent a unique image. "
      ]
    },
    {
      "cell_type": "code",
      "metadata": {
        "id": "poBFAEUOBHiv",
        "outputId": "883d649e-7dc7-44d5-e9c2-9a9527023d5d",
        "colab": {
          "base_uri": "https://localhost:8080/",
          "height": 1000
        }
      },
      "source": [
        "for i in range(0, 30):\n",
        "  plt.imshow(df.values[i, 1:].reshape(28, 28))\n",
        "  plt.show()"
      ],
      "execution_count": 6,
      "outputs": [
        {
          "output_type": "display_data",
          "data": {
            "image/png": "[encoded data removed]",
            "text/plain": [
              "<Figure size 432x288 with 1 Axes>"
            ]
          },
          "metadata": {
            "needs_background": "light"
          }
        },
        {
          "output_type": "display_data",
          "data": {
            "image/png": "[encoded data removed]",
            "text/plain": [
              "<Figure size 432x288 with 1 Axes>"
            ]
          },
          "metadata": {
            "needs_background": "light"
          }
        },
        {
          "output_type": "display_data",
          "data": {
            "image/png": "[encoded data removed]",
            "text/plain": [
              "<Figure size 432x288 with 1 Axes>"
            ]
          },
          "metadata": {
            "needs_background": "light"
          }
        },
        {
          "output_type": "display_data",
          "data": {
            "image/png": "[encoded data removed]",
            "text/plain": [
              "<Figure size 432x288 with 1 Axes>"
            ]
          },
          "metadata": {
            "needs_background": "light"
          }
        },
        {
          "output_type": "display_data",
          "data": {
            "image/png": "[encoded data removed]",
            "text/plain": [
              "<Figure size 432x288 with 1 Axes>"
            ]
          },
          "metadata": {
            "needs_background": "light"
          }
        },
        {
          "output_type": "display_data",
          "data": {
            "image/png": "[encoded data removed]",
            "text/plain": [
              "<Figure size 432x288 with 1 Axes>"
            ]
          },
          "metadata": {
            "needs_background": "light"
          }
        },
        {
          "output_type": "display_data",
          "data": {
            "image/png": "[encoded data removed]",
            "text/plain": [
              "<Figure size 432x288 with 1 Axes>"
            ]
          },
          "metadata": {
            "needs_background": "light"
          }
        },
        {
          "output_type": "display_data",
          "data": {
            "image/png": "[encoded data removed]",
            "text/plain": [
              "<Figure size 432x288 with 1 Axes>"
            ]
          },
          "metadata": {
            "needs_background": "light"
          }
        },
        {
          "output_type": "display_data",
          "data": {
            "image/png": "[encoded data removed]",
            "text/plain": [
              "<Figure size 432x288 with 1 Axes>"
            ]
          },
          "metadata": {
            "needs_background": "light"
          }
        },
        {
          "output_type": "display_data",
          "data": {
            "image/png": "[encoded data removed]",
            "text/plain": [
              "<Figure size 432x288 with 1 Axes>"
            ]
          },
          "metadata": {
            "needs_background": "light"
          }
        },
        {
          "output_type": "display_data",
          "data": {
            "image/png": "[encoded data removed]",
            "text/plain": [
              "<Figure size 432x288 with 1 Axes>"
            ]
          },
          "metadata": {
            "needs_background": "light"
          }
        },
        {
          "output_type": "display_data",
          "data": {
            "image/png": "[encoded data removed]",
            "text/plain": [
              "<Figure size 432x288 with 1 Axes>"
            ]
          },
          "metadata": {
            "needs_background": "light"
          }
        },
        {
          "output_type": "display_data",
          "data": {
            "image/png": "[encoded data removed]",
            "text/plain": [
              "<Figure size 432x288 with 1 Axes>"
            ]
          },
          "metadata": {
            "needs_background": "light"
          }
        },
        {
          "output_type": "display_data",
          "data": {
            "image/png": "[encoded data removed]",
            "text/plain": [
              "<Figure size 432x288 with 1 Axes>"
            ]
          },
          "metadata": {
            "needs_background": "light"
          }
        },
        {
          "output_type": "display_data",
          "data": {
            "image/png": "[encoded data removed]",
            "text/plain": [
              "<Figure size 432x288 with 1 Axes>"
            ]
          },
          "metadata": {
            "needs_background": "light"
          }
        },
        {
          "output_type": "display_data",
          "data": {
            "image/png": "[encoded data removed]",
            "text/plain": [
              "<Figure size 432x288 with 1 Axes>"
            ]
          },
          "metadata": {
            "needs_background": "light"
          }
        },
        {
          "output_type": "display_data",
          "data": {
            "image/png": "[encoded data removed]",
            "text/plain": [
              "<Figure size 432x288 with 1 Axes>"
            ]
          },
          "metadata": {
            "needs_background": "light"
          }
        },
        {
          "output_type": "display_data",
          "data": {
            "image/png": "[encoded data removed]",
            "text/plain": [
              "<Figure size 432x288 with 1 Axes>"
            ]
          },
          "metadata": {
            "needs_background": "light"
          }
        },
        {
          "output_type": "display_data",
          "data": {
            "image/png": "[encoded data removed]",
            "text/plain": [
              "<Figure size 432x288 with 1 Axes>"
            ]
          },
          "metadata": {
            "needs_background": "light"
          }
        },
        {
          "output_type": "display_data",
          "data": {
            "image/png": "[encoded data removed]",
            "text/plain": [
              "<Figure size 432x288 with 1 Axes>"
            ]
          },
          "metadata": {
            "needs_background": "light"
          }
        },
        {
          "output_type": "display_data",
          "data": {
            "image/png": "[encoded data removed]",
            "text/plain": [
              "<Figure size 432x288 with 1 Axes>"
            ]
          },
          "metadata": {
            "needs_background": "light"
          }
        },
        {
          "output_type": "display_data",
          "data": {
            "image/png": "[encoded data removed]",
            "text/plain": [
              "<Figure size 432x288 with 1 Axes>"
            ]
          },
          "metadata": {
            "needs_background": "light"
          }
        },
        {
          "output_type": "display_data",
          "data": {
            "image/png": "[encoded data removed]",
            "text/plain": [
              "<Figure size 432x288 with 1 Axes>"
            ]
          },
          "metadata": {
            "needs_background": "light"
          }
        },
        {
          "output_type": "display_data",
          "data": {
            "image/png": "[encoded data removed]",
            "text/plain": [
              "<Figure size 432x288 with 1 Axes>"
            ]
          },
          "metadata": {
            "needs_background": "light"
          }
        },
        {
          "output_type": "display_data",
          "data": {
            "image/png": "[encoded data removed]",
            "text/plain": [
              "<Figure size 432x288 with 1 Axes>"
            ]
          },
          "metadata": {
            "needs_background": "light"
          }
        },
        {
          "output_type": "display_data",
          "data": {
            "image/png": "[encoded data removed]",
            "text/plain": [
              "<Figure size 432x288 with 1 Axes>"
            ]
          },
          "metadata": {
            "needs_background": "light"
          }
        },
        {
          "output_type": "display_data",
          "data": {
            "image/png": "[encoded data removed]",
            "text/plain": [
              "<Figure size 432x288 with 1 Axes>"
            ]
          },
          "metadata": {
            "needs_background": "light"
          }
        },
        {
          "output_type": "display_data",
          "data": {
            "image/png": "[encoded data removed]",
            "text/plain": [
              "<Figure size 432x288 with 1 Axes>"
            ]
          },
          "metadata": {
            "needs_background": "light"
          }
        },
        {
          "output_type": "display_data",
          "data": {
            "image/png": "[encoded data removed]",
            "text/plain": [
              "<Figure size 432x288 with 1 Axes>"
            ]
          },
          "metadata": {
            "needs_background": "light"
          }
        },
        {
          "output_type": "display_data",
          "data": {
            "image/png": "[encoded data removed]",
            "text/plain": [
              "<Figure size 432x288 with 1 Axes>"
            ]
          },
          "metadata": {
            "needs_background": "light"
          }
        }
      ]
    },
    {
      "cell_type": "code",
      "metadata": {
        "id": "pyLhroZ1vqhy"
      },
      "source": [
        "number = df[df['e'] < 10]\n",
        "uppercase = df[(df['e'] >= 10) & (df['e'] < 36)]\n",
        "lowercase = df[df['e'] >= 36]"
      ],
      "execution_count": 7,
      "outputs": []
    },
    {
      "cell_type": "code",
      "metadata": {
        "id": "kDeZJSuiwf5M"
      },
      "source": [
        "from sklearn.model_selection import train_test_split"
      ],
      "execution_count": 8,
      "outputs": []
    },
    {
      "cell_type": "markdown",
      "metadata": {
        "id": "CsNCiR1Gs6bJ"
      },
      "source": [
        "* Now, try to train a classifier model to predict the uppercases. Use every single model you know for classification."
      ]
    },
    {
      "cell_type": "code",
      "metadata": {
        "id": "f-4lumt8wgmq"
      },
      "source": [
        "X = uppercase.drop('e', axis=1).copy()\n",
        "y = uppercase.e\n",
        "\n",
        "X_train, X_test, y_train, y_test = train_test_split(X, y, test_size=0.2, random_state=1)"
      ],
      "execution_count": 9,
      "outputs": []
    },
    {
      "cell_type": "markdown",
      "metadata": {
        "id": "ZKhmp86bTs7k"
      },
      "source": [
        "### Random Forest"
      ]
    },
    {
      "cell_type": "code",
      "metadata": {
        "id": "4ZBkT2BAs6bN",
        "outputId": "3b4d4f3f-9076-4af4-8771-ecb044988987",
        "colab": {
          "base_uri": "https://localhost:8080/"
        }
      },
      "source": [
        "# Your code here\n",
        "from sklearn.ensemble import RandomForestClassifier\n",
        "from sklearn.metrics import confusion_matrix\n",
        "from sklearn import metrics\n",
        "\n",
        "model_random = RandomForestClassifier()\n",
        "model_random.fit(X_train, y_train)"
      ],
      "execution_count": 10,
      "outputs": [
        {
          "output_type": "execute_result",
          "data": {
            "text/plain": [
              "RandomForestClassifier(bootstrap=True, ccp_alpha=0.0, class_weight=None,\n",
              "                       criterion='gini', max_depth=None, max_features='auto',\n",
              "                       max_leaf_nodes=None, max_samples=None,\n",
              "                       min_impurity_decrease=0.0, min_impurity_split=None,\n",
              "                       min_samples_leaf=1, min_samples_split=2,\n",
              "                       min_weight_fraction_leaf=0.0, n_estimators=100,\n",
              "                       n_jobs=None, oob_score=False, random_state=None,\n",
              "                       verbose=0, warm_start=False)"
            ]
          },
          "metadata": {},
          "execution_count": 10
        }
      ]
    },
    {
      "cell_type": "code",
      "metadata": {
        "id": "bntYLCfs1T6Q"
      },
      "source": [
        "y_pred = model_random.predict(X_test)"
      ],
      "execution_count": 11,
      "outputs": []
    },
    {
      "cell_type": "code",
      "metadata": {
        "id": "GXR73D2N1Ts6",
        "outputId": "2daf8e6d-4b10-4ce0-9ee4-aec04c5c69e4",
        "colab": {
          "base_uri": "https://localhost:8080/"
        }
      },
      "source": [
        "y_pred = model_random.predict(X_test)\n",
        "confusion_matrix(y_test, y_pred)"
      ],
      "execution_count": 12,
      "outputs": [
        {
          "output_type": "execute_result",
          "data": {
            "text/plain": [
              "array([[190,   0,   0,   0,   0,   5,   0,   0,   1,   1,   1,   1,   7,\n",
              "          0,   0,   1,   0,   1,   0,   0,   0,   0,   1,   0,   0,   0],\n",
              "       [  2,  90,   0,   1,   3,   0,   1,   0,   0,   0,   0,   0,   0,\n",
              "          0,  11,   2,   1,   1,   9,   0,   0,   0,   0,   0,   1,   0],\n",
              "       [  0,   0, 334,   0,   2,   1,   0,   0,   2,   0,   0,   5,   0,\n",
              "          0,   3,   0,   0,   0,   0,   0,   2,   0,   0,   0,   0,   0],\n",
              "       [  0,   2,   0, 103,   0,   0,   0,   0,   1,   0,   0,   0,   1,\n",
              "          0,  21,   0,   1,   0,   2,   0,   0,   0,   0,   1,   0,   0],\n",
              "       [  0,   1,  10,   0, 135,   7,   2,   0,   1,   0,   1,   0,   0,\n",
              "          2,   3,   0,   0,   2,   1,   1,   0,   0,   0,   0,   0,   0],\n",
              "       [  1,   0,   2,   0,   0, 284,   0,   0,   3,   0,   0,   1,   1,\n",
              "          0,   0,   6,   0,   3,   1,   3,   0,   0,   0,   0,   1,   0],\n",
              "       [  2,   0,   5,   0,   1,   2,  70,   0,   1,   0,   0,   0,   0,\n",
              "          0,   3,   1,   2,   0,   5,   0,   0,   0,   2,   0,   0,   0],\n",
              "       [ 10,   0,   0,   1,   0,   1,   0,  78,   0,   0,   0,   0,   2,\n",
              "         14,   0,   0,   0,   0,   0,   0,   3,   1,   1,   1,   0,   0],\n",
              "       [  0,   0,   0,   0,   0,   0,   0,   0, 381,   2,   0,   2,   0,\n",
              "          0,   1,   0,   0,   0,   2,   3,   0,   0,   0,   0,   1,   3],\n",
              "       [  0,   0,   0,   0,   0,   1,   0,   0,   4,  89,   0,   0,   0,\n",
              "          0,   1,   1,   0,   0,   7,   5,   1,   0,   0,   0,   0,   0],\n",
              "       [  0,   0,   4,   0,   0,   2,   0,   0,   0,   0,  53,   1,   0,\n",
              "          0,   0,   1,   0,   3,   0,   0,   1,   0,   0,   1,   0,   0],\n",
              "       [  0,   0,   5,   0,   0,   0,   0,   0,   6,   0,   0, 157,   0,\n",
              "          0,   0,   0,   0,   0,   0,   0,   1,   0,   0,   0,   0,   0],\n",
              "       [  2,   0,   0,   0,   0,   0,   0,   1,   0,   0,   0,   0, 300,\n",
              "          5,   0,   0,   0,   0,   0,   0,   1,   0,   0,   0,   0,   0],\n",
              "       [  5,   0,   0,   0,   0,   1,   0,   3,   0,   1,   0,   0,   1,\n",
              "        251,   4,   0,   0,   1,   2,   0,   4,   2,   1,   0,   1,   0],\n",
              "       [  0,   0,   0,   4,   0,   1,   0,   0,   0,   0,   0,   0,   1,\n",
              "          1, 806,   1,   0,   0,   1,   0,   1,   0,   0,   0,   0,   0],\n",
              "       [  1,   0,   0,   1,   0,   2,   0,   0,   2,   0,   0,   0,   0,\n",
              "          0,   1, 295,   0,   0,   0,   5,   1,   0,   0,   0,   2,   0],\n",
              "       [  2,   0,   2,   1,   0,   2,   0,   0,   0,   0,   0,   0,   0,\n",
              "          0,   8,   1,  41,   2,   1,   0,   8,   0,   0,   0,   0,   0],\n",
              "       [ 12,   2,   5,   1,   2,   2,   0,   1,   0,   0,   3,   1,   2,\n",
              "          0,   1,   0,   1, 125,   0,   0,   1,   0,   0,   0,   1,   0],\n",
              "       [  0,   0,   0,   0,   0,   5,   1,   0,   0,   3,   0,   1,   0,\n",
              "          0,   3,   0,   0,   0, 688,   0,   1,   0,   0,   0,   0,   0],\n",
              "       [  0,   0,   0,   0,   0,   3,   0,   0,   1,   0,   0,   0,   0,\n",
              "          0,   0,   0,   0,   0,   0, 305,   0,   0,   0,   0,   0,   0],\n",
              "       [  0,   0,   1,   1,   2,   0,   0,   2,   0,   0,   0,   0,   0,\n",
              "          1,  10,   1,   0,   0,   1,   0, 358,   7,   0,   0,   2,   0],\n",
              "       [  0,   0,   0,   0,   0,   0,   0,   0,   0,   0,   0,   0,   1,\n",
              "          4,   1,   0,   0,   0,   0,   0,  15, 131,   0,   0,   3,   0],\n",
              "       [  1,   0,   0,   1,   0,   0,   0,   0,   0,   0,   0,   0,   2,\n",
              "         14,   0,   1,   0,   0,   0,   0,   6,   2, 148,   0,   1,   0],\n",
              "       [  6,   0,   0,   0,   0,   0,   0,   0,   2,   0,   2,   2,   1,\n",
              "          0,   0,   0,   0,   4,   1,   0,   1,   0,   0,  83,   4,   1],\n",
              "       [  0,   0,   0,   0,   0,   0,   0,   1,   4,   4,   0,   0,   0,\n",
              "          0,   1,   0,   0,   0,   4,   6,   1,   5,   0,   1, 146,   0],\n",
              "       [  0,   0,   1,   0,   0,   2,   0,   0,   5,   0,   0,   5,   1,\n",
              "          0,   0,   0,   0,   1,   1,   1,   0,   0,   0,   1,   0,  74]])"
            ]
          },
          "metadata": {},
          "execution_count": 12
        }
      ]
    },
    {
      "cell_type": "code",
      "metadata": {
        "id": "ddfMU6DpPFtG",
        "outputId": "dbca77c1-db79-476e-b121-274c6c4eadfd",
        "colab": {
          "base_uri": "https://localhost:8080/"
        }
      },
      "source": [
        "model_random.score(X_test, y_test)"
      ],
      "execution_count": 13,
      "outputs": [
        {
          "output_type": "execute_result",
          "data": {
            "text/plain": [
              "0.9116286489073218"
            ]
          },
          "metadata": {},
          "execution_count": 13
        }
      ]
    },
    {
      "cell_type": "code",
      "metadata": {
        "id": "fv7ud1JkPFPm",
        "outputId": "9b44fc52-67f9-44cd-e305-f0ce6e3ffe34",
        "colab": {
          "base_uri": "https://localhost:8080/"
        }
      },
      "source": [
        "model_random.score(X_train, y_train)"
      ],
      "execution_count": 14,
      "outputs": [
        {
          "output_type": "execute_result",
          "data": {
            "text/plain": [
              "1.0"
            ]
          },
          "metadata": {},
          "execution_count": 14
        }
      ]
    },
    {
      "cell_type": "markdown",
      "metadata": {
        "id": "D318HsIaTzDP"
      },
      "source": [
        "### KNN"
      ]
    },
    {
      "cell_type": "code",
      "metadata": {
        "id": "NMBNksWTQpYD"
      },
      "source": [
        "from sklearn.neighbors import KNeighborsClassifier"
      ],
      "execution_count": 15,
      "outputs": []
    },
    {
      "cell_type": "code",
      "metadata": {
        "id": "rbOAiqG1RdeV"
      },
      "source": [
        "neighbor_model = KNeighborsClassifier(n_neighbors=3)\n",
        "neighbor_model.fit(X_train, y_train) "
      ],
      "execution_count": null,
      "outputs": []
    },
    {
      "cell_type": "code",
      "metadata": {
        "id": "wCj30NzHTWy2",
        "outputId": "20d03f5e-bbac-4cbd-8d4c-fb28d38068b7",
        "colab": {
          "base_uri": "https://localhost:8080/"
        }
      },
      "source": [
        "neighbor_model.score(X_train, y_train)"
      ],
      "execution_count": 18,
      "outputs": [
        {
          "output_type": "execute_result",
          "data": {
            "text/plain": [
              "0.9363136066358271"
            ]
          },
          "metadata": {},
          "execution_count": 18
        }
      ]
    },
    {
      "cell_type": "code",
      "metadata": {
        "id": "nAIV_0y6TWsS",
        "outputId": "ecc578e5-8242-405f-92a0-3a729df85bcf",
        "colab": {
          "base_uri": "https://localhost:8080/"
        }
      },
      "source": [
        "neighbor_model.score(X_test, y_test)"
      ],
      "execution_count": 19,
      "outputs": [
        {
          "output_type": "execute_result",
          "data": {
            "text/plain": [
              "0.890413144042112"
            ]
          },
          "metadata": {},
          "execution_count": 19
        }
      ]
    },
    {
      "cell_type": "markdown",
      "metadata": {
        "id": "sknCWGe-s6bO"
      },
      "source": [
        "* Try to do the same thing with lowercases."
      ]
    },
    {
      "cell_type": "code",
      "metadata": {
        "id": "i6IIX6scs6bP"
      },
      "source": [
        "# Your code here\n",
        "\n",
        "X_lower = lowercase.drop('e', axis=1).copy()\n",
        "y_lower = lowercase.e\n",
        "\n",
        "X_train, X_test, y_train, y_test = train_test_split(X_lower, y_lower, test_size=0.2, random_state=1)"
      ],
      "execution_count": 33,
      "outputs": []
    },
    {
      "cell_type": "code",
      "metadata": {
        "id": "6DsLXTPXu3r9",
        "outputId": "edaca882-b9dc-45fb-a307-256c17b967b7",
        "colab": {
          "base_uri": "https://localhost:8080/"
        }
      },
      "source": [
        "model_random = RandomForestClassifier()\n",
        "model_random.fit(X_train, y_train)"
      ],
      "execution_count": 34,
      "outputs": [
        {
          "output_type": "execute_result",
          "data": {
            "text/plain": [
              "RandomForestClassifier(bootstrap=True, ccp_alpha=0.0, class_weight=None,\n",
              "                       criterion='gini', max_depth=None, max_features='auto',\n",
              "                       max_leaf_nodes=None, max_samples=None,\n",
              "                       min_impurity_decrease=0.0, min_impurity_split=None,\n",
              "                       min_samples_leaf=1, min_samples_split=2,\n",
              "                       min_weight_fraction_leaf=0.0, n_estimators=100,\n",
              "                       n_jobs=None, oob_score=False, random_state=None,\n",
              "                       verbose=0, warm_start=False)"
            ]
          },
          "metadata": {},
          "execution_count": 34
        }
      ]
    },
    {
      "cell_type": "code",
      "metadata": {
        "id": "gdiTWVpsUHYp",
        "outputId": "7051934b-bf14-41f5-98c7-cc402ea8648d",
        "colab": {
          "base_uri": "https://localhost:8080/"
        }
      },
      "source": [
        "model_random.score(X_test, y_test), model_random.score(X_train, y_train)"
      ],
      "execution_count": 35,
      "outputs": [
        {
          "output_type": "execute_result",
          "data": {
            "text/plain": [
              "(0.8845158906134516, 1.0)"
            ]
          },
          "metadata": {},
          "execution_count": 35
        }
      ]
    },
    {
      "cell_type": "markdown",
      "metadata": {
        "id": "-q7cJvLes6bQ"
      },
      "source": [
        "* Try to do the same thing with numbers."
      ]
    },
    {
      "cell_type": "code",
      "metadata": {
        "id": "0Rwcxum2USrn"
      },
      "source": [
        "X_num = number.drop('e', axis=1).copy()\n",
        "y_num = number.e\n",
        "\n",
        "X_train, X_test, y_train, y_test = train_test_split(X_num, y_num, test_size=0.2, random_state=1)"
      ],
      "execution_count": 30,
      "outputs": []
    },
    {
      "cell_type": "code",
      "metadata": {
        "id": "Y9gVahHwUSod",
        "outputId": "426640e8-558c-43e8-ef34-80903053ed95",
        "colab": {
          "base_uri": "https://localhost:8080/"
        }
      },
      "source": [
        "model_random = RandomForestClassifier()\n",
        "model_random.fit(X_train, y_train)"
      ],
      "execution_count": 31,
      "outputs": [
        {
          "output_type": "execute_result",
          "data": {
            "text/plain": [
              "RandomForestClassifier(bootstrap=True, ccp_alpha=0.0, class_weight=None,\n",
              "                       criterion='gini', max_depth=None, max_features='auto',\n",
              "                       max_leaf_nodes=None, max_samples=None,\n",
              "                       min_impurity_decrease=0.0, min_impurity_split=None,\n",
              "                       min_samples_leaf=1, min_samples_split=2,\n",
              "                       min_weight_fraction_leaf=0.0, n_estimators=100,\n",
              "                       n_jobs=None, oob_score=False, random_state=None,\n",
              "                       verbose=0, warm_start=False)"
            ]
          },
          "metadata": {},
          "execution_count": 31
        }
      ]
    },
    {
      "cell_type": "code",
      "metadata": {
        "id": "XWCchXvIvww3",
        "outputId": "e6350497-0c41-4a0f-c8b6-21ee87ed861c",
        "colab": {
          "base_uri": "https://localhost:8080/"
        }
      },
      "source": [
        "model_random.score(X_test, y_test), model_random.score(X_train, y_train)"
      ],
      "execution_count": 32,
      "outputs": [
        {
          "output_type": "execute_result",
          "data": {
            "text/plain": [
              "(0.9752244475138122, 1.0)"
            ]
          },
          "metadata": {},
          "execution_count": 32
        }
      ]
    },
    {
      "cell_type": "code",
      "metadata": {
        "id": "uB3Ugm28yP-Z"
      },
      "source": [
        ""
      ],
      "execution_count": null,
      "outputs": []
    }
  ]
}